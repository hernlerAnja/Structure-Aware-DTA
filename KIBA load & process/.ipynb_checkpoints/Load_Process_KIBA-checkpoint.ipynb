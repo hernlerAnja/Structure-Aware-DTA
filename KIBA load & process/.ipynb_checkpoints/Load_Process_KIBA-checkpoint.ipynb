{
 "cells": [
  {
   "cell_type": "code",
   "execution_count": 1,
   "id": "23cf0c57",
   "metadata": {
    "scrolled": true
   },
   "outputs": [],
   "source": [
    "from DeepPurpose import utils, dataset\n",
    "from DeepPurpose import DTI as models\n",
    "import ast\n",
    "import numpy as np\n",
    "import json\n",
    "import os\n",
    "import requests\n",
    "import warnings\n",
    "warnings.filterwarnings(\"ignore\")"
   ]
  },
  {
   "cell_type": "code",
   "execution_count": 2,
   "id": "12118aa9",
   "metadata": {},
   "outputs": [
    {
     "name": "stdout",
     "output_type": "stream",
     "text": [
      "Beginning Processing...\n",
      "100% [............................................................................] 338300 / 338300Beginning to extract zip file...\n",
      "Done!\n"
     ]
    }
   ],
   "source": [
    "kiba_data = dataset.load_process_KIBA()"
   ]
  },
  {
   "cell_type": "code",
   "execution_count": 3,
   "id": "d1b5adae",
   "metadata": {},
   "outputs": [],
   "source": [
    "file_obj = open(\"proteins.txt\", 'r')\n",
    "file = ast.literal_eval(file_obj.read())"
   ]
  },
  {
   "cell_type": "code",
   "execution_count": 4,
   "id": "0c717e5f",
   "metadata": {},
   "outputs": [
    {
     "name": "stdout",
     "output_type": "stream",
     "text": [
      "118254 118254 118254\n"
     ]
    }
   ],
   "source": [
    "print(kiba_data[0].__len__(), kiba_data[1].__len__(), kiba_data[2].__len__())"
   ]
  },
  {
   "cell_type": "code",
   "execution_count": 5,
   "id": "fe3f1b4e",
   "metadata": {},
   "outputs": [],
   "source": [
    "kiba_data = np.stack((kiba_data[0], kiba_data[1], kiba_data[2]), axis=-1)"
   ]
  },
  {
   "cell_type": "code",
   "execution_count": 6,
   "id": "3ef826fc",
   "metadata": {},
   "outputs": [
    {
     "data": {
      "text/plain": [
       "(118254, 3)"
      ]
     },
     "execution_count": 6,
     "metadata": {},
     "output_type": "execute_result"
    }
   ],
   "source": [
    "kiba_data.shape"
   ]
  },
  {
   "cell_type": "code",
   "execution_count": 17,
   "id": "15b69adb",
   "metadata": {},
   "outputs": [],
   "source": [
    "result = []\n",
    "for row in kiba_data:\n",
    "    value = row[1]\n",
    "    key = list(filter(lambda x: file[x] == value, file))[0] \n",
    "    new_row = np.append(row, key)\n",
    "    result.append(new_row)\n",
    "result = np.array(result)"
   ]
  },
  {
   "cell_type": "code",
   "execution_count": 20,
   "id": "f7afc78a",
   "metadata": {},
   "outputs": [],
   "source": [
    "import pandas as pd\n",
    "kiba_data_df = pd.DataFrame(result, columns=['Smiles', 'molecules', 'target_affinity', 'uniprot_id'])"
   ]
  },
  {
   "cell_type": "code",
   "execution_count": 68,
   "id": "8235228e",
   "metadata": {},
   "outputs": [],
   "source": [
    " kiba_data_df.to_csv('kiba_data_df_with_index_col.csv')"
   ]
  },
  {
   "cell_type": "markdown",
   "id": "c17cfc8c",
   "metadata": {},
   "source": [
    "### Uniprot id to PDB id mapping"
   ]
  },
  {
   "cell_type": "code",
   "execution_count": 21,
   "id": "a1c4f952",
   "metadata": {},
   "outputs": [],
   "source": [
    "# get uniprot ids\n",
    "keys = list(file.keys())"
   ]
  },
  {
   "cell_type": "code",
   "execution_count": 22,
   "id": "77812529",
   "metadata": {},
   "outputs": [],
   "source": [
    "# load pdb id mappings\n",
    "with open('idmapping_2023_11_12.json', 'r') as file:\n",
    "    mappings = json.load(file)"
   ]
  },
  {
   "cell_type": "code",
   "execution_count": 58,
   "id": "6b7fb23d",
   "metadata": {},
   "outputs": [],
   "source": [
    "pdb_ids = {}\n",
    "c = 0\n",
    "for i in range(len(mappings['results'])):\n",
    "    if mappings['results'][i]['from'] in keys and mappings['results'][i]['from'] not in pdb_ids.keys(): # only take the first mapping\n",
    "        pdb_ids[mappings['results'][i]['from']] = mappings['results'][i]['to']"
   ]
  },
  {
   "cell_type": "code",
   "execution_count": 61,
   "id": "f7c9d73e",
   "metadata": {},
   "outputs": [],
   "source": [
    "mappings_keys = []\n",
    "for i in range(len(mappings['results'])):\n",
    "    mappings_keys.append(mappings['results'][i]['from'])"
   ]
  },
  {
   "cell_type": "code",
   "execution_count": 63,
   "id": "73ad9309",
   "metadata": {},
   "outputs": [],
   "source": [
    "uniprot_ids = []\n",
    "for k in keys:\n",
    "    if k in mappings_keys:\n",
    "        continue\n",
    "    else:\n",
    "        uniprot_ids.append(k)"
   ]
  },
  {
   "cell_type": "code",
   "execution_count": 65,
   "id": "32e4541b",
   "metadata": {},
   "outputs": [
    {
     "name": "stdout",
     "output_type": "stream",
     "text": [
      "195 34\n"
     ]
    }
   ],
   "source": [
    "print(pdb_ids.__len__(), uniprot_ids.__len__())"
   ]
  },
  {
   "cell_type": "code",
   "execution_count": 36,
   "id": "e4df6c0b",
   "metadata": {},
   "outputs": [],
   "source": [
    "#EXECUTED - all succesfull\n",
    "download_dir = 'PDB_files'\n",
    "if not os.path.exists(download_dir):\n",
    "    os.makedirs(download_dir)\n",
    "\n",
    "# Base URL\n",
    "base_url = 'https://files.rcsb.org/download/'\n",
    "\n",
    "for pdb_id in pdb_ids.values():\n",
    "    # Download URL with PDB ID\n",
    "    download_url = f'{base_url}{pdb_id}.pdb'\n",
    "\n",
    "    save_path = os.path.join(download_dir, f'{pdb_id}.pdb')\n",
    "\n",
    "    # Make the request to download the file\n",
    "    response = requests.get(download_url)\n",
    "\n",
    "    # Check if the request was successful (status code 200)\n",
    "    if response.status_code == 200:\n",
    "        with open(save_path, 'wb') as file:\n",
    "            file.write(response.content)\n",
    "        #print(f'Successfully downloaded {pdb_id}.pdb')\n",
    "    else:\n",
    "        print(f'Failed to download {pdb_id}.pdb. Status code: {response.status_code}')\n"
   ]
  },
  {
   "cell_type": "code",
   "execution_count": 64,
   "id": "ea108a7b",
   "metadata": {},
   "outputs": [],
   "source": [
    "# DONE - DON'T EXECUTE AGAIN\n",
    "# get pdb-files for proteins wihtout pdb id (Alphafold)\n",
    "\n",
    "download_dir = 'PDB_files'\n",
    "\n",
    "for uniprot_id in uniprot_ids:\n",
    "    # Download URL with UNIPROT ID\n",
    "    download_url = f'https://alphafold.ebi.ac.uk/files/AF-{uniprot_id}-F1-model_v2.pdb'\n",
    "\n",
    "    save_path = os.path.join(download_dir, f'{uniprot_id}.pdb')\n",
    "\n",
    "    # Make the request to download the file\n",
    "    response = requests.get(download_url)\n",
    "\n",
    "    # Check if the request was successful (status code 200)\n",
    "    if response.status_code == 200:\n",
    "        with open(save_path, 'wb') as file:\n",
    "            file.write(response.content)\n",
    "        #print(f'Successfully downloaded {uniprot_id}.pdb')\n",
    "    else:\n",
    "        print(f'Failed to download {uniprot_id}.pdb. Status code: {response.status_code}')"
   ]
  },
  {
   "cell_type": "code",
   "execution_count": null,
   "id": "c4fbf607",
   "metadata": {},
   "outputs": [],
   "source": []
  }
 ],
 "metadata": {
  "kernelspec": {
   "display_name": "Python 3 (ipykernel)",
   "language": "python",
   "name": "python3"
  },
  "language_info": {
   "codemirror_mode": {
    "name": "ipython",
    "version": 3
   },
   "file_extension": ".py",
   "mimetype": "text/x-python",
   "name": "python",
   "nbconvert_exporter": "python",
   "pygments_lexer": "ipython3",
   "version": "3.11.3"
  }
 },
 "nbformat": 4,
 "nbformat_minor": 5
}
