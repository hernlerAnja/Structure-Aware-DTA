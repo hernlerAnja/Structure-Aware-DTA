{
 "cells": [
  {
   "cell_type": "markdown",
   "id": "6a948822",
   "metadata": {},
   "source": [
    "# Train and test new model"
   ]
  },
  {
   "cell_type": "markdown",
   "id": "9a6aeb5e",
   "metadata": {},
   "source": [
    "Using the saved vector representations as input, i coded a simple MLP to predict the affinity scores. After testing I will apply the same evaluation metrics as for the tankbind model and then compare the 2. Hopefully we where able to improve the error."
   ]
  },
  {
   "cell_type": "code",
   "execution_count": null,
   "id": "d7359f4b",
   "metadata": {},
   "outputs": [],
   "source": [
    "# imports\n",
    "import torch\n",
    "import torchmetrics\n",
    "import pandas as pd"
   ]
  },
  {
   "cell_type": "markdown",
   "id": "38ae19e6",
   "metadata": {},
   "source": [
    "## Load data (vector representations)"
   ]
  },
  {
   "cell_type": "code",
   "execution_count": null,
   "id": "128e5f65",
   "metadata": {},
   "outputs": [],
   "source": [
    "data = pd.read_csv(\"vector_representations/kiba_vector_representations.csv\")"
   ]
  },
  {
   "cell_type": "markdown",
   "id": "cd47df6f",
   "metadata": {},
   "source": [
    "## Model"
   ]
  },
  {
   "cell_type": "code",
   "execution_count": null,
   "id": "1416961f",
   "metadata": {},
   "outputs": [],
   "source": [
    "# TODO: change model (this is just a placeholder for now)\n",
    "class SimpleMLP(torch.nn.Module):\n",
    "    def __init__(self, input_dim, output_dim):\n",
    "        super(SimpleMLP, self).__init__()\n",
    "        self.fc1 = torch.nn.Linear(input_dim, 128)\n",
    "        self.fc2 = torch.nn.Linear(128, 64)\n",
    "        self.fc3 = torch.nn.Linear(64, output_dim)\n",
    "\n",
    "    def forward(self, x):\n",
    "        x = torch.relu(self.fc1(x))\n",
    "        x = torch.relu(self.fc2(x))\n",
    "        x = self.fc3(x)\n",
    "        return x"
   ]
  },
  {
   "cell_type": "code",
   "execution_count": null,
   "id": "5e6b362a",
   "metadata": {},
   "outputs": [],
   "source": [
    "model = SimpleMLP(input_dim=data.shape[1] - 1, output_dim=1)  # Assuming last column is target"
   ]
  },
  {
   "cell_type": "markdown",
   "id": "4c32db9b",
   "metadata": {},
   "source": [
    "## Training loop"
   ]
  },
  {
   "cell_type": "code",
   "execution_count": null,
   "id": "c40d22ae",
   "metadata": {},
   "outputs": [],
   "source": [
    "device = torch.device(\"cuda\" if torch.cuda.is_available() else \"cpu\")\n",
    "model.to(device)\n",
    "model.train()"
   ]
  },
  {
   "cell_type": "code",
   "execution_count": null,
   "id": "b11f3d45",
   "metadata": {},
   "outputs": [],
   "source": [
    "# create dataloader\n",
    "from torch.utils.data import DataLoader, TensorDataset\n",
    "X = torch.tensor(data.iloc[:, :-1].values, dtype=torch.float32).to(device)  # Features\n",
    "y = torch.tensor(data.iloc[:, -1].values, dtype=torch.float32).to(device)  # Target\n",
    "dataset = TensorDataset(X, y)\n",
    "dataloader = DataLoader(dataset, batch_size=32, shuffle=True)\n",
    "\n",
    "# TODO: adjust dataset size so not the etire dataset is used for training (and split into train and validation set)"
   ]
  },
  {
   "cell_type": "code",
   "execution_count": null,
   "id": "b22aa624",
   "metadata": {},
   "outputs": [],
   "source": [
    "# training loop - TODO: adjust hyperparameters & validation and adjust training loop\n",
    "criterion = torch.nn.MSELoss()\n",
    "optimizer = torch.optim.Adam(model.parameters(), lr=0.001)\n",
    "metric = torchmetrics.MeanSquaredError().to(device)\n",
    "num_epochs = 10\n",
    "\n",
    "for epoch in range(num_epochs):\n",
    "    for batch in dataloader:\n",
    "        inputs, targets = batch\n",
    "        inputs, targets = inputs.to(device), targets.to(device)\n",
    "\n",
    "        optimizer.zero_grad()\n",
    "        outputs = model(inputs)\n",
    "        loss = criterion(outputs.squeeze(), targets)\n",
    "        loss.backward()\n",
    "        optimizer.step()\n",
    "\n",
    "        metric.update(outputs.squeeze(), targets)\n",
    "\n",
    "    epoch_loss = metric.compute()\n",
    "    print(f\"Epoch [{epoch + 1}/{num_epochs}], Loss: {epoch_loss.item():.4f}\")\n",
    "    metric.reset()"
   ]
  },
  {
   "cell_type": "markdown",
   "id": "28ef59e8",
   "metadata": {},
   "source": [
    "## Inference"
   ]
  },
  {
   "cell_type": "code",
   "execution_count": null,
   "id": "72928242",
   "metadata": {},
   "outputs": [],
   "source": [
    "# prep test data\n",
    "test_data = pd.read_csv(\"vector_representations/kiba_vector_representations_test.csv\")\n",
    "X_test = torch.tensor(test_data.iloc[:, :-1].values, dtype=torch.float32).to(device)  # Features\n",
    "y_test = torch.tensor(test_data.iloc[:, -1].values, dtype=torch.float32).to(device)  # Target\n",
    "test_dataset = TensorDataset(X_test, y_test) \n",
    "test_dataloader = DataLoader(test_dataset, batch_size=32, shuffle=False)\n",
    "\n",
    "# TODO: adjust testset size so not the entire dataset is used for testing, since some is used for training"
   ]
  },
  {
   "cell_type": "code",
   "execution_count": null,
   "id": "2e53394f",
   "metadata": {},
   "outputs": [],
   "source": [
    "# inference\n",
    "model.eval()\n",
    "predictions = []\n",
    "with torch.no_grad():\n",
    "    for batch in test_dataloader:\n",
    "        inputs, _ = batch\n",
    "        inputs = inputs.to(device)\n",
    "        outputs = model(inputs)\n",
    "        predictions.append(outputs.cpu().numpy())\n",
    "\n",
    "predictions = torch.cat(predictions).numpy()"
   ]
  },
  {
   "cell_type": "markdown",
   "id": "982066cb",
   "metadata": {},
   "source": [
    "## TODO: Evaluation"
   ]
  },
  {
   "cell_type": "code",
   "execution_count": null,
   "id": "c2ec01d8",
   "metadata": {},
   "outputs": [],
   "source": [
    "def eval_metrics(predictions, targets):\n",
    "    mse = torchmetrics.functional.mean_squared_error(torch.tensor(predictions), torch.tensor(targets))\n",
    "    mae = torchmetrics.functional.mean_absolute_error(torch.tensor(predictions), torch.tensor(targets))\n",
    "    r2 = torchmetrics.functional.r2_score(torch.tensor(predictions), torch.tensor(targets))\n",
    "    return mse.item(), mae.item(), r2.item()"
   ]
  },
  {
   "cell_type": "code",
   "execution_count": null,
   "id": "e7222bcf",
   "metadata": {},
   "outputs": [],
   "source": [
    "mse, mae, r2 = eval_metrics(predictions, y_test.cpu().numpy())\n",
    "print(f\"Test MSE: {mse:.4f}, MAE: {mae:.4f}, R2: {r2:.4f}\")"
   ]
  }
 ],
 "metadata": {
  "kernelspec": {
   "display_name": "rdkit-env",
   "language": "python",
   "name": "python3"
  },
  "language_info": {
   "name": "python",
   "version": "3.8.19"
  }
 },
 "nbformat": 4,
 "nbformat_minor": 5
}
