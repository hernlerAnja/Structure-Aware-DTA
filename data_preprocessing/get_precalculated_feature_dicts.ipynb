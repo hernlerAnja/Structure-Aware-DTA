{
 "cells": [
  {
   "cell_type": "code",
   "execution_count": 1,
   "id": "09edd2fe",
   "metadata": {},
   "outputs": [],
   "source": [
    "# env imports\n",
    "import sys\n",
    "import os\n",
    "import logging\n",
    "import numpy as np\n",
    "import random\n",
    "import pandas as pd\n",
    "import torch\n",
    "from tqdm import tqdm\n",
    "import pickle\n",
    "\n",
    "import rdkit.Chem as Chem\n",
    "from rdkit.Chem import AllChem\n",
    "from Bio.PDB import PDBParser\n",
    "import torchmetrics\n",
    "from torch_geometric.data import Dataset\n",
    "from torch_geometric.loader import DataLoader"
   ]
  },
  {
   "cell_type": "code",
   "execution_count": 3,
   "id": "c0657822",
   "metadata": {},
   "outputs": [],
   "source": [
    "tankbind_src_folder_path = \"./tankbind/\"\n",
    "sys.path.insert(0, tankbind_src_folder_path)"
   ]
  },
  {
   "cell_type": "code",
   "execution_count": 4,
   "id": "5bf727aa",
   "metadata": {},
   "outputs": [],
   "source": [
    "# imports from tankbind\n",
    "from feature_utils import get_protein_feature, get_clean_res_list, extract_torchdrug_feature_from_mol, get_canonical_smiles\n",
    "from utils import construct_data_from_graph_gvp, evaulate_with_affinity, evaulate\n",
    "from model import get_model\n",
    "from generation_utils import get_LAS_distance_constraint_mask, get_info_pred_distance, write_with_new_coords\n",
    "from metrics import print_metrics, myMetric"
   ]
  },
  {
   "cell_type": "markdown",
   "id": "9cbfac55",
   "metadata": {},
   "source": [
    "# Protein_dict"
   ]
  },
  {
   "cell_type": "code",
   "execution_count": null,
   "id": "f0a5221c",
   "metadata": {},
   "outputs": [],
   "source": [
    "def process_proteins(protein_names, pdb_directory='PDB_files'):\n",
    "    parser = PDBParser(QUIET=True)\n",
    "    protein_dict = {}\n",
    "\n",
    "    for proteinName in protein_names:\n",
    "        try:\n",
    "            proteinFile = f\"{pdb_directory}/{proteinName}.pdb\"\n",
    "            s = parser.get_structure(proteinName, proteinFile)\n",
    "            res_list = list(s.get_residues())\n",
    "            clean_res_list = get_clean_res_list(res_list, ensure_ca_exist=True)\n",
    "            protein_dict[proteinName] = get_protein_feature(clean_res_list)\n",
    "        except Exception as e:\n",
    "            print(f\"Error processing {proteinName}: {e}\")\n",
    "\n",
    "    return protein_dict"
   ]
  },
  {
   "cell_type": "code",
   "execution_count": 5,
   "id": "ddc3f857",
   "metadata": {},
   "outputs": [
    {
     "data": {
      "text/html": [
       "<div>\n",
       "<style scoped>\n",
       "    .dataframe tbody tr th:only-of-type {\n",
       "        vertical-align: middle;\n",
       "    }\n",
       "\n",
       "    .dataframe tbody tr th {\n",
       "        vertical-align: top;\n",
       "    }\n",
       "\n",
       "    .dataframe thead th {\n",
       "        text-align: right;\n",
       "    }\n",
       "</style>\n",
       "<table border=\"1\" class=\"dataframe\">\n",
       "  <thead>\n",
       "    <tr style=\"text-align: right;\">\n",
       "      <th></th>\n",
       "      <th>Unnamed: 0</th>\n",
       "      <th>Smiles</th>\n",
       "      <th>molecules</th>\n",
       "      <th>target_affinity</th>\n",
       "      <th>uniprot_id</th>\n",
       "      <th>pdb_id</th>\n",
       "    </tr>\n",
       "  </thead>\n",
       "  <tbody>\n",
       "    <tr>\n",
       "      <th>0</th>\n",
       "      <td>0</td>\n",
       "      <td>COC1=C(C=C2C(=C1)CCN=C2C3=CC(=C(C=C3)Cl)Cl)Cl</td>\n",
       "      <td>MTVKTEAAKGTLTYSRMRGMVAILIAFMKQRRMGLNDFIQKIANNS...</td>\n",
       "      <td>11.1</td>\n",
       "      <td>O00141</td>\n",
       "      <td>2R5T</td>\n",
       "    </tr>\n",
       "    <tr>\n",
       "      <th>1</th>\n",
       "      <td>1</td>\n",
       "      <td>COC1=C(C=C2C(=C1)CCN=C2C3=CC(=C(C=C3)Cl)Cl)Cl</td>\n",
       "      <td>MSWSPSLTTQTCGAWEMKERLGTGGFGNVIRWHNQETGEQIAIKQC...</td>\n",
       "      <td>11.1</td>\n",
       "      <td>O14920</td>\n",
       "      <td>3BRT</td>\n",
       "    </tr>\n",
       "    <tr>\n",
       "      <th>2</th>\n",
       "      <td>2</td>\n",
       "      <td>COC1=C(C=C2C(=C1)CCN=C2C3=CC(=C(C=C3)Cl)Cl)Cl</td>\n",
       "      <td>MERPPGLRPGAGGPWEMRERLGTGGFGNVCLYQHRELDLKIAIKSC...</td>\n",
       "      <td>11.1</td>\n",
       "      <td>O15111</td>\n",
       "      <td>3BRT</td>\n",
       "    </tr>\n",
       "    <tr>\n",
       "      <th>3</th>\n",
       "      <td>3</td>\n",
       "      <td>COC1=C(C=C2C(=C1)CCN=C2C3=CC(=C(C=C3)Cl)Cl)Cl</td>\n",
       "      <td>MRPSGTAGAALLALLAALCPASRALEEKKVCQGTSNKLTQLGTFED...</td>\n",
       "      <td>11.1</td>\n",
       "      <td>P00533</td>\n",
       "      <td>1IVO</td>\n",
       "    </tr>\n",
       "    <tr>\n",
       "      <th>4</th>\n",
       "      <td>4</td>\n",
       "      <td>COC1=C(C=C2C(=C1)CCN=C2C3=CC(=C(C=C3)Cl)Cl)Cl</td>\n",
       "      <td>MELAALCRWGLLLALLPPGAASTQVCTGTDMKLRLPASPETHLDML...</td>\n",
       "      <td>11.1</td>\n",
       "      <td>P04626</td>\n",
       "      <td>1MFG</td>\n",
       "    </tr>\n",
       "  </tbody>\n",
       "</table>\n",
       "</div>"
      ],
      "text/plain": [
       "   Unnamed: 0                                         Smiles  \\\n",
       "0           0  COC1=C(C=C2C(=C1)CCN=C2C3=CC(=C(C=C3)Cl)Cl)Cl   \n",
       "1           1  COC1=C(C=C2C(=C1)CCN=C2C3=CC(=C(C=C3)Cl)Cl)Cl   \n",
       "2           2  COC1=C(C=C2C(=C1)CCN=C2C3=CC(=C(C=C3)Cl)Cl)Cl   \n",
       "3           3  COC1=C(C=C2C(=C1)CCN=C2C3=CC(=C(C=C3)Cl)Cl)Cl   \n",
       "4           4  COC1=C(C=C2C(=C1)CCN=C2C3=CC(=C(C=C3)Cl)Cl)Cl   \n",
       "\n",
       "                                           molecules  target_affinity  \\\n",
       "0  MTVKTEAAKGTLTYSRMRGMVAILIAFMKQRRMGLNDFIQKIANNS...             11.1   \n",
       "1  MSWSPSLTTQTCGAWEMKERLGTGGFGNVIRWHNQETGEQIAIKQC...             11.1   \n",
       "2  MERPPGLRPGAGGPWEMRERLGTGGFGNVCLYQHRELDLKIAIKSC...             11.1   \n",
       "3  MRPSGTAGAALLALLAALCPASRALEEKKVCQGTSNKLTQLGTFED...             11.1   \n",
       "4  MELAALCRWGLLLALLPPGAASTQVCTGTDMKLRLPASPETHLDML...             11.1   \n",
       "\n",
       "  uniprot_id pdb_id  \n",
       "0     O00141   2R5T  \n",
       "1     O14920   3BRT  \n",
       "2     O15111   3BRT  \n",
       "3     P00533   1IVO  \n",
       "4     P04626   1MFG  "
      ]
     },
     "execution_count": 5,
     "metadata": {},
     "output_type": "execute_result"
    }
   ],
   "source": [
    "kiba_df = pd.read_csv('kiba_data_df_with_ids.csv')\n",
    "kiba_df.head()"
   ]
  },
  {
   "cell_type": "code",
   "execution_count": 7,
   "id": "0151c718",
   "metadata": {},
   "outputs": [
    {
     "name": "stdout",
     "output_type": "stream",
     "text": [
      "Number of unique proteins: 226\n"
     ]
    }
   ],
   "source": [
    "# get protein names as list\n",
    "protein_names = kiba_df['pdb_id'].unique()\n",
    "print(f\"Number of unique proteins: {len(protein_names)}\")"
   ]
  },
  {
   "cell_type": "code",
   "execution_count": 8,
   "id": "2596e65e",
   "metadata": {},
   "outputs": [],
   "source": [
    "# generate protein features --> protein_dict\n",
    "protein_dict = process_proteins(protein_names)"
   ]
  },
  {
   "cell_type": "code",
   "execution_count": null,
   "id": "01a00374",
   "metadata": {},
   "outputs": [
    {
     "name": "stdout",
     "output_type": "stream",
     "text": [
      "Number of proteins in protein_dict: 226\n"
     ]
    }
   ],
   "source": [
    "# some checks\n",
    "print(f\"Number of proteins in protein_dict: {len(protein_dict)}\")"
   ]
  },
  {
   "cell_type": "code",
   "execution_count": null,
   "id": "9accc1f0",
   "metadata": {},
   "outputs": [],
   "source": [
    "# Save the protein_dict to a file (only for demonstration, not needed in practice)\n",
    "with open(\"protein_dict.pkl\", \"wb\") as f:\n",
    "    pickle.dump(protein_dict, f)\n",
    "\n",
    "# load protein_dict from pickle file (only for demonstration, not needed in practice)\n",
    "with open(\"protein_dict.pkl\", \"rb\") as f:\n",
    "    protein_dict = pickle.load(f)\n",
    "\n",
    "# save as protein_dict as pt file\n",
    "torch.save(protein_dict, \"protein_dict.pt\")"
   ]
  },
  {
   "cell_type": "markdown",
   "id": "db5f293c",
   "metadata": {},
   "source": [
    "# Molecule_dict"
   ]
  },
  {
   "cell_type": "code",
   "execution_count": 12,
   "id": "ae12682e",
   "metadata": {},
   "outputs": [],
   "source": [
    "\n",
    "def process_molecules(smiles):\n",
    "    \"\"\"\n",
    "    Create a dictionary of molecules from a list of SMILES strings.\n",
    "    Each molecule is represented by its canonical SMILES and its features.\n",
    "\n",
    "    smiles: ndarray of unique SMILES strings\n",
    "\n",
    "    \"\"\"\n",
    "    molecule_dict = {}\n",
    "    for molecule in smiles:\n",
    "        smiles = get_canonical_smiles(molecule)\n",
    "        mol = Chem.MolFromSmiles(smiles)\n",
    "        mol.Compute2DCoords()\n",
    "        molecule_dict[molecule] = extract_torchdrug_feature_from_mol(mol, has_LAS_mask=True)\n",
    "    return molecule_dict"
   ]
  },
  {
   "cell_type": "code",
   "execution_count": 13,
   "id": "6bc7d4f0",
   "metadata": {},
   "outputs": [
    {
     "name": "stdout",
     "output_type": "stream",
     "text": [
      "Number of unique SMILES: 2068\n"
     ]
    }
   ],
   "source": [
    "# get unique SMILES strings\n",
    "smiles = kiba_df['Smiles'].unique()\n",
    "print(f\"Number of unique SMILES: {len(smiles)}\")"
   ]
  },
  {
   "cell_type": "code",
   "execution_count": 14,
   "id": "c38bc30d",
   "metadata": {},
   "outputs": [],
   "source": [
    "# generate molecule features --> molecule_dict\n",
    "molecule_dict = process_molecules(smiles)"
   ]
  },
  {
   "cell_type": "code",
   "execution_count": 15,
   "id": "58ed3f74",
   "metadata": {},
   "outputs": [
    {
     "name": "stdout",
     "output_type": "stream",
     "text": [
      "Number of molecules in molecule_dict: 2068\n"
     ]
    }
   ],
   "source": [
    "# some checks\n",
    "print(f\"Number of molecules in molecule_dict: {len(molecule_dict)}\")"
   ]
  },
  {
   "cell_type": "code",
   "execution_count": 16,
   "id": "11f79929",
   "metadata": {},
   "outputs": [],
   "source": [
    "# save molecule_dict to a pt file\n",
    "torch.save(molecule_dict, \"molecule_dict.pt\")"
   ]
  }
 ],
 "metadata": {
  "kernelspec": {
   "display_name": "rdkit-env",
   "language": "python",
   "name": "python3"
  },
  "language_info": {
   "codemirror_mode": {
    "name": "ipython",
    "version": 3
   },
   "file_extension": ".py",
   "mimetype": "text/x-python",
   "name": "python",
   "nbconvert_exporter": "python",
   "pygments_lexer": "ipython3",
   "version": "3.8.19"
  }
 },
 "nbformat": 4,
 "nbformat_minor": 5
}
