{
 "cells": [
  {
   "cell_type": "markdown",
   "id": "6a948822",
   "metadata": {},
   "source": [
    "# Train and test new model"
   ]
  },
  {
   "cell_type": "markdown",
   "id": "9a6aeb5e",
   "metadata": {},
   "source": [
    "Using the saved vector representations as input, i coded a simple MLP to predict the affinity scores. After testing I will apply the same evaluation metrics as for the tankbind model and then compare the 2. Hopefully we where able to improve the error."
   ]
  },
  {
   "cell_type": "code",
   "execution_count": null,
   "id": "549af101",
   "metadata": {},
   "outputs": [
    {
     "name": "stdout",
     "output_type": "stream",
     "text": [
      "Using device: cuda:0\n"
     ]
    }
   ],
   "source": [
    "import os\n",
    "# Set which GPU to use (here, GPU 2) by setting the CUDA_VISIBLE_DEVICES environment variable \n",
    "# (important if executed on server, check which GPU is available)\n",
    "os.environ[\"CUDA_VISIBLE_DEVICES\"] = \"2\"\n",
    "\n",
    "import torch\n",
    "device = torch.device(\"cuda:0\" if torch.cuda.is_available() else \"cpu\")\n",
    "print(f\"Using device: {device}\")"
   ]
  },
  {
   "cell_type": "code",
   "execution_count": 2,
   "id": "10d5c7c1",
   "metadata": {},
   "outputs": [
    {
     "name": "stdout",
     "output_type": "stream",
     "text": [
      "Gpu name: Tesla P40\n",
      "Memory allocated: 0.0 GB\n",
      "Memory cached: 0.0 GB\n"
     ]
    }
   ],
   "source": [
    "gpu_id = device.index\n",
    "print('Gpu name:', torch.cuda.get_device_name(gpu_id))\n",
    "print('Memory allocated:', round(torch.cuda.memory_allocated(gpu_id) / (1024 ** 3),2), 'GB')\n",
    "print('Memory cached:', round(torch.cuda.memory_reserved(gpu_id) / (1024 ** 3),2), 'GB')"
   ]
  },
  {
   "cell_type": "code",
   "execution_count": 4,
   "id": "d7359f4b",
   "metadata": {},
   "outputs": [],
   "source": [
    "# imports\n",
    "import torch\n",
    "import torch.nn as nn\n",
    "import torch.optim as optim\n",
    "from torch.utils.data import DataLoader, TensorDataset\n",
    "\n",
    "from sklearn.model_selection import train_test_split\n",
    "from sklearn.preprocessing import StandardScaler\n",
    "\n",
    "import numpy as np\n",
    "import torchmetrics\n",
    "import pandas as pd\n",
    "from tqdm.notebook import tqdm\n",
    "import itertools\n",
    "import matplotlib.pyplot as plt"
   ]
  },
  {
   "cell_type": "markdown",
   "id": "38ae19e6",
   "metadata": {},
   "source": [
    "## Load data (vector representations)"
   ]
  },
  {
   "cell_type": "code",
   "execution_count": 5,
   "id": "128e5f65",
   "metadata": {},
   "outputs": [
    {
     "name": "stdout",
     "output_type": "stream",
     "text": [
      "Data shape: torch.Size([105634, 128])\n",
      "Labels shape: torch.Size([105634])\n"
     ]
    }
   ],
   "source": [
    "data = torch.load(\"vector_representations/vector_representations.pt\")\n",
    "labels = torch.load(\"vector_representations/labels.pt\")\n",
    "print(\"Data shape:\", data.shape)\n",
    "print(\"Labels shape:\", labels.shape)"
   ]
  },
  {
   "cell_type": "code",
   "execution_count": 6,
   "id": "36800b90",
   "metadata": {},
   "outputs": [
    {
     "name": "stdout",
     "output_type": "stream",
     "text": [
      "Training set size: 74366\n",
      "Validation set size: 10141\n",
      "Test set size: 21127\n"
     ]
    }
   ],
   "source": [
    "# split into training and test sets\n",
    "X, X_test, y, y_test = train_test_split(data, labels, test_size=0.2, random_state=42)\n",
    "\n",
    "# split training set into training and validation sets\n",
    "X_train, X_val, y_train, y_val = train_test_split(X, y, test_size=0.12, random_state=42) # 0.12 to get around 10_000 samples in validation set\n",
    "\n",
    "print(\"Training set size:\", len(X_train))\n",
    "print(\"Validation set size:\", len(X_val))\n",
    "print(\"Test set size:\", len(X_test))"
   ]
  },
  {
   "cell_type": "markdown",
   "id": "80bf9403",
   "metadata": {},
   "source": [
    "### Normalize the data"
   ]
  },
  {
   "cell_type": "markdown",
   "id": "dd764262",
   "metadata": {},
   "source": [
    "Why one might skip normalization here:\n",
    "\n",
    "- If the vectors are already coming from a pretrained model (self_dockt.pt) where the representation is internally normalized or bounde, further normalization now may not change much.\n",
    "\n",
    "If time permits try training with and without normalization and see how it affects the perfomance of the model.\n",
    "\n",
    "**Model performs significantly better with normalized data**"
   ]
  },
  {
   "cell_type": "code",
   "execution_count": null,
   "id": "0b236728",
   "metadata": {},
   "outputs": [],
   "source": [
    "# fit a scaler to only the training data, then transform the entire dataset with that scaler\n",
    "scaler = StandardScaler()\n",
    "X_train = scaler.fit_transform(X_train.numpy())\n",
    "\n",
    "# normalize training set\n",
    "X_train = torch.tensor(X_train, dtype=torch.float32)\n",
    "\n",
    "# normalize validation & test set\n",
    "X_val = torch.tensor(scaler.transform(X_val.numpy()), dtype=torch.float32)\n",
    "X_test = torch.tensor(scaler.transform(X_test.numpy()), dtype=torch.float32)"
   ]
  },
  {
   "cell_type": "markdown",
   "id": "caa4cef4",
   "metadata": {},
   "source": [
    "### Create dataloaders"
   ]
  },
  {
   "cell_type": "code",
   "execution_count": null,
   "id": "ccf83219",
   "metadata": {},
   "outputs": [],
   "source": [
    "BATCH_SIZE = 64 # set batchsize (depending on GPU memory it can be 64-256 or higher...) \n",
    "\n",
    "# Note: for this batchsize the GPU had 24GB RAM and could be set higher for this memory size"
   ]
  },
  {
   "cell_type": "code",
   "execution_count": null,
   "id": "89a9d9f0",
   "metadata": {},
   "outputs": [
    {
     "name": "stdout",
     "output_type": "stream",
     "text": [
      "Number of batches in train loader: 1162,  with n samples: 74366\n",
      "Number of batches in validation loader: 159,  with n samples: 10141\n",
      "Number of batches in test loader: 331,  with n samples: 21127\n"
     ]
    }
   ],
   "source": [
    "train_dataset = TensorDataset(X_train, y_train)\n",
    "val_dataset = TensorDataset(X_val, y_val)\n",
    "test_dataset = TensorDataset(X_test, y_test)\n",
    "\n",
    "train_loader = DataLoader(train_dataset, batch_size=BATCH_SIZE, shuffle=True)\n",
    "val_loader = DataLoader(val_dataset, batch_size=BATCH_SIZE, shuffle=False)\n",
    "test_loader = DataLoader(test_dataset, batch_size=BATCH_SIZE, shuffle=False)\n",
    "\n",
    "print(f\"Number of batches in train loader:      {len(train_loader)},  with n samples: {len(train_loader.dataset)}\")\n",
    "print(f\"Number of batches in validation loader: {len(val_loader)},  with n samples: {len(val_loader.dataset)}\")\n",
    "print(f\"Number of batches in test loader:       {len(test_loader)},  with n samples: {len(test_loader.dataset)}\")"
   ]
  },
  {
   "cell_type": "markdown",
   "id": "cd47df6f",
   "metadata": {},
   "source": [
    "# Models"
   ]
  },
  {
   "cell_type": "markdown",
   "id": "91ab8589",
   "metadata": {},
   "source": [
    "## MLP-Model"
   ]
  },
  {
   "cell_type": "code",
   "execution_count": 12,
   "id": "1416961f",
   "metadata": {},
   "outputs": [],
   "source": [
    "class AffinityPredMLP(nn.Module):\n",
    "    def __init__(self, input_dim=128, hidden_dim=256, output_dim=1):\n",
    "        super(AffinityPredMLP, self).__init__()\n",
    "        self.model = nn.Sequential(\n",
    "            nn.Linear(input_dim, hidden_dim),\n",
    "            nn.ReLU(),\n",
    "            nn.Linear(hidden_dim, hidden_dim // 2),\n",
    "            nn.ReLU(),\n",
    "            nn.Linear(hidden_dim // 2, output_dim) # output_dim is 1 for regression tasks\n",
    "        )\n",
    "\n",
    "    def forward(self, x):\n",
    "        return self.model(x)"
   ]
  },
  {
   "cell_type": "code",
   "execution_count": null,
   "id": "5e6b362a",
   "metadata": {},
   "outputs": [],
   "source": [
    "# Initialize the model and move to the appropriate device\n",
    "# model = AffinityPredMLP().to(device)\n",
    "# model = AffinityPredMLP(input_dim=128, hidden_dim=1024, output_dim=1).to(device)"
   ]
  },
  {
   "cell_type": "markdown",
   "id": "9e7c4dce",
   "metadata": {},
   "source": [
    "### Functions for training and evaluation"
   ]
  },
  {
   "cell_type": "code",
   "execution_count": null,
   "id": "f7febba3",
   "metadata": {},
   "outputs": [],
   "source": [
    "# Trainin Function (process per epoch)\n",
    "def train_epoch(model, dataloader, optimizer, criterion):\n",
    "    model.train()\n",
    "    total_loss = 0.0\n",
    "    for x, y in dataloader:\n",
    "        x, y = x.to(device), y.to(device).float()  # Ensure y is float for regression\n",
    "\n",
    "        optimizer.zero_grad()\n",
    "\n",
    "        preds = model(x)\n",
    "\n",
    "        loss = criterion(preds.squeeze(), y)\n",
    "        loss.backward()\n",
    "        optimizer.step()\n",
    "\n",
    "        total_loss += loss.item() * x.size(0)\n",
    "\n",
    "    return total_loss / len(dataloader.dataset)\n",
    "\n",
    "# evaluation function (for validation and test)\n",
    "def evaluate(model, dataloader, criterion, type='val'):\n",
    "    model.eval()\n",
    "    total_loss = 0.0\n",
    "    predictions = []\n",
    "    with torch.no_grad():\n",
    "        for x, y in dataloader:\n",
    "            x, y = x.to(device), y.to(device).float()\n",
    "            preds = model(x)\n",
    "            loss = criterion(preds.squeeze(), y)\n",
    "            total_loss += loss.item() * x.size(0)\n",
    "\n",
    "            if type == 'test': # Uncomment to if you want the predictions and true labels for test set\n",
    "                predictions.append(preds.detach().cpu().numpy())\n",
    "                \n",
    "    if type == 'test':\n",
    "        return total_loss / len(dataloader.dataset), np.concatenate(predictions)\n",
    "\n",
    "    return total_loss / len(dataloader.dataset)\n"
   ]
  },
  {
   "cell_type": "markdown",
   "id": "ced5f6eb",
   "metadata": {},
   "source": [
    "### GridSearch for optimal parameter settings"
   ]
  },
  {
   "cell_type": "code",
   "execution_count": null,
   "id": "c9b6271c",
   "metadata": {},
   "outputs": [],
   "source": [
    "def grid_search(train_loader, val_loader, param_grid, device):\n",
    "    best_params = None\n",
    "    best_score = float('inf')\n",
    "\n",
    "    keys, vals = zip(*param_grid.items())\n",
    "    for v in itertools.product(*vals):\n",
    "        params = dict(zip(keys, v))\n",
    "\n",
    "        # initialize model with current parameters\n",
    "        model = AffinityPredMLP(input_dim=128, hidden_dim=params['hidden_dim'], output_dim=1).to(device)\n",
    "\n",
    "        if params['optimizer'] == 'adam':\n",
    "            optimizer = optim.Adam(model.parameters(), lr=params['lr'], weight_decay=params['weight_decay'])\n",
    "        elif params['optimizer'] == 'adamw':\n",
    "            optimizer = optim.AdamW(model.parameters(), lr=params['lr'], weight_decay=params['weight_decay'])\n",
    "        elif params['optimizer'] == 'sgd':\n",
    "            optimizer = optim.SGD(model.parameters(), lr=params['lr'], momentum=0.9, weight_decay=params['weight_decay'])\n",
    "\n",
    "        # train & evaluate\n",
    "        for epoch in range(1, EPOCHS + 1):\n",
    "            train_loss = train_epoch(model, train_loader, optimizer, criterion)\n",
    "            val_loss = evaluate(model, val_loader, criterion)\n",
    "\n",
    "        print(f\"Params: {params}, Val MSE: {val_loss:.4f}\")\n",
    "        if val_loss < best_score:\n",
    "            best_score = val_loss\n",
    "            best_params = params\n",
    "            torch.save(model.state_dict(), \"model/best_model_grid_search.pt\")\n",
    "\n",
    "        \n",
    "    print(f\"Best parameters: {best_params}, Best validation MSE: {best_score:.4f}\")\n",
    "    return best_params"
   ]
  },
  {
   "cell_type": "code",
   "execution_count": null,
   "id": "f9ddaac3",
   "metadata": {},
   "outputs": [],
   "source": [
    "param_grid = {\n",
    "    'hidden_dim': [256, 512],\n",
    "    'optimizer': ['adam', 'adamw'],\n",
    "    'lr': [1e-3, 1e-4, 5e-3, 5e-4],\n",
    "    'weight_decay': [0.0, 1e-5, 1e-4]\n",
    "}\n",
    "\n",
    "best_params = grid_search(train_loader, val_loader, param_grid, device)"
   ]
  },
  {
   "cell_type": "markdown",
   "id": "4c32db9b",
   "metadata": {},
   "source": [
    "## Training loop"
   ]
  },
  {
   "cell_type": "markdown",
   "id": "19ba0015",
   "metadata": {},
   "source": [
    "**Set hyperparmeters:**"
   ]
  },
  {
   "cell_type": "code",
   "execution_count": null,
   "id": "cb131789",
   "metadata": {},
   "outputs": [],
   "source": [
    "# hyperparameters\n",
    "h_dim = 256\n",
    "model = AffinityPredMLP(input_dim=128, hidden_dim=h_dim, output_dim=1).to(device)\n",
    "\n",
    "EPOCHS = 500  # 100/200 might be enough, 500 (might) leads to overfitting\n",
    "LEARNING_RATE = 5e-4\n",
    "\n",
    "optimizer = optim.Adam(model.parameters(), lr=LEARNING_RATE, weight_decay=1e-5)  # Adam optimizer with weight decay for regularization\n",
    "criterion = nn.MSELoss()  # Mean Squared Error for regression tasks\n",
    "\n",
    "best_val_loss = float('inf') # for best model selection/saving"
   ]
  },
  {
   "cell_type": "code",
   "execution_count": 41,
   "id": "d9210fb2",
   "metadata": {},
   "outputs": [
    {
     "data": {
      "application/vnd.jupyter.widget-view+json": {
       "model_id": "d24836f64af242d8b2e1e0675d595507",
       "version_major": 2,
       "version_minor": 0
      },
      "text/plain": [
       "Training Progress:   0%|          | 0/500 [00:00<?, ?it/s]"
      ]
     },
     "metadata": {},
     "output_type": "display_data"
    },
    {
     "name": "stdout",
     "output_type": "stream",
     "text": [
      "Epoch 10/500, Train Loss: 0.6008, Val Loss: 0.6036\n",
      "Epoch 20/500, Train Loss: 0.5397, Val Loss: 0.5600\n",
      "Epoch 30/500, Train Loss: 0.5063, Val Loss: 0.5385\n",
      "Epoch 40/500, Train Loss: 0.4755, Val Loss: 0.6366\n",
      "Epoch 50/500, Train Loss: 0.4561, Val Loss: 0.5275\n",
      "Epoch 60/500, Train Loss: 0.4364, Val Loss: 0.5322\n",
      "Epoch 70/500, Train Loss: 0.4219, Val Loss: 0.5321\n",
      "Epoch 80/500, Train Loss: 0.4044, Val Loss: 0.5098\n",
      "Epoch 90/500, Train Loss: 0.3873, Val Loss: 0.5828\n",
      "Epoch 100/500, Train Loss: 0.3756, Val Loss: 0.4996\n",
      "Epoch 110/500, Train Loss: 0.3658, Val Loss: 0.5070\n",
      "Epoch 120/500, Train Loss: 0.3489, Val Loss: 0.4946\n",
      "Epoch 130/500, Train Loss: 0.3399, Val Loss: 0.4874\n",
      "Epoch 140/500, Train Loss: 0.3334, Val Loss: 0.5026\n",
      "Epoch 150/500, Train Loss: 0.3236, Val Loss: 0.4902\n",
      "Epoch 160/500, Train Loss: 0.3166, Val Loss: 0.4870\n",
      "Epoch 170/500, Train Loss: 0.3051, Val Loss: 0.4967\n",
      "Epoch 180/500, Train Loss: 0.3012, Val Loss: 0.5008\n",
      "Epoch 190/500, Train Loss: 0.2934, Val Loss: 0.4968\n",
      "Epoch 200/500, Train Loss: 0.2861, Val Loss: 0.4843\n",
      "Epoch 210/500, Train Loss: 0.2802, Val Loss: 0.4872\n",
      "Epoch 220/500, Train Loss: 0.2757, Val Loss: 0.5270\n",
      "Epoch 230/500, Train Loss: 0.2713, Val Loss: 0.5047\n",
      "Epoch 240/500, Train Loss: 0.2657, Val Loss: 0.5204\n",
      "Epoch 250/500, Train Loss: 0.2605, Val Loss: 0.4992\n",
      "Epoch 260/500, Train Loss: 0.2582, Val Loss: 0.5005\n",
      "Epoch 270/500, Train Loss: 0.2505, Val Loss: 0.4858\n",
      "Epoch 280/500, Train Loss: 0.2473, Val Loss: 0.4869\n",
      "Epoch 290/500, Train Loss: 0.2447, Val Loss: 0.4820\n",
      "Epoch 300/500, Train Loss: 0.2431, Val Loss: 0.4919\n",
      "Epoch 310/500, Train Loss: 0.2387, Val Loss: 0.4974\n",
      "Epoch 320/500, Train Loss: 0.2330, Val Loss: 0.4920\n",
      "Epoch 330/500, Train Loss: 0.2336, Val Loss: 0.5185\n",
      "Epoch 340/500, Train Loss: 0.2265, Val Loss: 0.4974\n",
      "Epoch 350/500, Train Loss: 0.2276, Val Loss: 0.5035\n",
      "Epoch 360/500, Train Loss: 0.2234, Val Loss: 0.4968\n",
      "Epoch 370/500, Train Loss: 0.2208, Val Loss: 0.4825\n",
      "Epoch 380/500, Train Loss: 0.2213, Val Loss: 0.4851\n",
      "Epoch 390/500, Train Loss: 0.2150, Val Loss: 0.4986\n",
      "Epoch 400/500, Train Loss: 0.2123, Val Loss: 0.4887\n",
      "Epoch 410/500, Train Loss: 0.2122, Val Loss: 0.4797\n",
      "Epoch 420/500, Train Loss: 0.2093, Val Loss: 0.4895\n",
      "Epoch 430/500, Train Loss: 0.2073, Val Loss: 0.4962\n",
      "Epoch 440/500, Train Loss: 0.2053, Val Loss: 0.5010\n",
      "Epoch 450/500, Train Loss: 0.2017, Val Loss: 0.5155\n",
      "Epoch 460/500, Train Loss: 0.2013, Val Loss: 0.4897\n",
      "Epoch 470/500, Train Loss: 0.1984, Val Loss: 0.4977\n",
      "Epoch 480/500, Train Loss: 0.1957, Val Loss: 0.4998\n",
      "Epoch 490/500, Train Loss: 0.1953, Val Loss: 0.5079\n",
      "Epoch 500/500, Train Loss: 0.1942, Val Loss: 0.5159\n"
     ]
    }
   ],
   "source": [
    "# training loop\n",
    "train_losses, val_losses = [], []\n",
    "\n",
    "for epoch in tqdm(range(1, EPOCHS + 1), desc=\"Training Progress\"):\n",
    "    train_loss = train_epoch(model, train_loader, optimizer, criterion)\n",
    "    val_loss = evaluate(model, val_loader, criterion)\n",
    "\n",
    "    train_losses.append(train_loss)\n",
    "    val_losses.append(val_loss)\n",
    "\n",
    "    if epoch % 10 == 0:\n",
    "        print(f\"Epoch {epoch}/{EPOCHS}, Train Loss: {train_loss:.4f}, Val Loss: {val_loss:.4f}\")\n",
    "\n",
    "    # Save the best model based on validation loss\n",
    "    if val_loss < best_val_loss:\n",
    "        best_val_loss = val_loss\n",
    "        torch.save(model.state_dict(), \"model/best_model_500eps_hd1024.pt\")\n",
    "        # print(\"Best model saved!\")"
   ]
  },
  {
   "cell_type": "code",
   "execution_count": null,
   "id": "93847b18",
   "metadata": {},
   "outputs": [
    {
     "data": {
      "image/png": "[encoded data removed]",
      "text/plain": [
       "<Figure size 800x500 with 1 Axes>"
      ]
     },
     "metadata": {},
     "output_type": "display_data"
    }
   ],
   "source": [
    "# plot loss curves\n",
    "plt.figure(figsize=(8,5))\n",
    "plt.plot(range(1, EPOCHS+1), train_losses, label='Training Loss')\n",
    "plt.plot(range(1, EPOCHS+1), val_losses, label='Validation Loss', color='cyan')\n",
    "plt.xlabel('Epoch')\n",
    "plt.ylabel('Loss')\n",
    "plt.title('Training & Validation Loss')\n",
    "plt.legend()\n",
    "plt.grid(True)\n",
    "plt.tight_layout()\n",
    "plt.show()"
   ]
  },
  {
   "cell_type": "markdown",
   "id": "102a7326",
   "metadata": {},
   "source": [
    "### Inference - Get predictions from the MLP model and reshape them "
   ]
  },
  {
   "cell_type": "code",
   "execution_count": null,
   "id": "63a4efe9",
   "metadata": {},
   "outputs": [],
   "source": [
    "model_mlp = AffinityPredMLP(input_dim=128, hidden_dim=h_dim, output_dim=1).to(device)\n",
    "model_mlp.load_state_dict(torch.load(\"model/best_model_500eps_hd1024.pt\"))\n",
    "\n",
    "test_loss, preds_mlp = evaluate(model_mlp, test_loader, criterion, 'test')\n",
    "print(f\"Test MSE: {test_loss:.4f}\")"
   ]
  },
  {
   "cell_type": "code",
   "execution_count": null,
   "id": "120721f3",
   "metadata": {},
   "outputs": [],
   "source": [
    "print(\"Predictions shape:\", preds_mlp.shape)\n",
    "print(\"First 5 predictions:\", preds_mlp[:5])\n",
    "\n",
    "# change shape of predictions to match true labels\n",
    "preds_mlp = preds_mlp.squeeze()\n",
    "print(\"Final Predictions shape:\", preds_mlp.shape)"
   ]
  },
  {
   "cell_type": "markdown",
   "id": "c4904e33",
   "metadata": {},
   "source": [
    "## LightGBM"
   ]
  },
  {
   "cell_type": "code",
   "execution_count": null,
   "id": "e26f9141",
   "metadata": {},
   "outputs": [
    {
     "name": "stdout",
     "output_type": "stream",
     "text": [
      "[LightGBM] [Info] Auto-choosing col-wise multi-threading, the overhead of testing was 0.092254 seconds.\n",
      "You can set `force_col_wise=true` to remove the overhead.\n",
      "[LightGBM] [Info] Total Bins 32640\n",
      "[LightGBM] [Info] Number of data points in the train set: 74366, number of used features: 128\n",
      "[LightGBM] [Info] Start training from score 11.717098\n"
     ]
    },
    {
     "data": {
      "image/png": "[encoded data removed]",
      "text/plain": [
       "<Figure size 800x500 with 1 Axes>"
      ]
     },
     "metadata": {},
     "output_type": "display_data"
    },
    {
     "name": "stdout",
     "output_type": "stream",
     "text": [
      "Test MSE for LightGBM: 0.4583\n"
     ]
    }
   ],
   "source": [
    "import lightgbm as lgb\n",
    "\n",
    "model_lgb = lgb.LGBMRegressor(\n",
    "    num_leaves=64,  # Number of leaves in one tree\n",
    "    n_estimators=2000, #1000 # Number of boosting iterations\n",
    "    learning_rate=0.05,  # Learning rate\n",
    "    subsample=0.8,  # Fraction of samples to use for each tree\n",
    "    colsample_bytree=0.8,  # Fraction of features to use for each tree\n",
    ")\n",
    "\n",
    "# model_lgb.fit(X_train.numpy(), y_train.numpy(), eval_set=[(X_val.numpy(), y_val.numpy())], eval_metric='mse')\n",
    "eval_results = {}\n",
    "\n",
    "model_lgb.fit(\n",
    "    X_train.numpy(), \n",
    "    y_train.numpy(), \n",
    "    eval_set=[(X_train.numpy(), y_train.numpy()),(X_val.numpy(), y_val.numpy())], \n",
    "    eval_metric='mse', callbacks=[lgb.record_evaluation(eval_results)], \n",
    "    )\n",
    "\n",
    "# plot loss curves\n",
    "plt.figure(figsize=(8,5))\n",
    "plt.plot(eval_results['valid_0']['l2'], label='Training MSE') # the training set is the first one in eval_results\n",
    "plt.plot(eval_results['valid_1']['l2'], label='Validation MSE')\n",
    "plt.xlabel('Iteration')\n",
    "plt.ylabel('MSE')\n",
    "plt.title('LightGBM Training & Validation Loss')\n",
    "plt.legend()\n",
    "plt.grid(True)\n",
    "plt.tight_layout()\n",
    "plt.show()\n",
    "\n",
    "# evaluate predictions\n",
    "preds_lgb = model_lgb.predict(X_test.numpy())\n",
    "test_loss_lgb = np.mean((preds_lgb - y_test.numpy()) ** 2)\n",
    "print(f\"Test MSE for LightGBM: {test_loss_lgb:.4f}\")\n",
    "\n",
    "# save model\n",
    "torch.save(model_lgb, \"model/lgb_model.pt\")"
   ]
  },
  {
   "cell_type": "markdown",
   "id": "7b698d32",
   "metadata": {},
   "source": [
    "## XGBoost"
   ]
  },
  {
   "cell_type": "code",
   "execution_count": null,
   "id": "efda53ae",
   "metadata": {},
   "outputs": [
    {
     "data": {
      "image/png": "[encoded data removed]",
      "text/plain": [
       "<Figure size 800x500 with 1 Axes>"
      ]
     },
     "metadata": {},
     "output_type": "display_data"
    },
    {
     "name": "stderr",
     "output_type": "stream",
     "text": [
      "/system/apps/studentenv/hernler/rdkit-env/lib/python3.8/site-packages/xgboost/core.py:158: UserWarning: [15:27:36] WARNING: /home/conda/feedstock_root/build_artifacts/xgboost-split_1724807753241/work/src/common/error_msg.cc:58: Falling back to prediction using DMatrix due to mismatched devices. This might lead to higher memory usage and slower performance. XGBoost is running on: cuda:0, while the input data is on: cpu.\n",
      "Potential solutions:\n",
      "- Use a data structure that matches the device ordinal in the booster.\n",
      "- Set the device for booster before call to inplace_predict.\n",
      "\n",
      "This warning will only be shown once.\n",
      "\n",
      "  warnings.warn(smsg, UserWarning)\n"
     ]
    },
    {
     "name": "stdout",
     "output_type": "stream",
     "text": [
      "Test RMSE for XGBoost: 0.4622\n"
     ]
    }
   ],
   "source": [
    "import xgboost as xgb\n",
    "\n",
    "model_xgb = xgb.XGBRegressor(\n",
    "    n_estimators=1000,  # Number of boosting iterations\n",
    "    learning_rate=0.05,  # Learning rate\n",
    "    max_depth=8,  # Maximum depth of the tree\n",
    "    subsample=0.8,  # Fraction of samples to use for each tree\n",
    "    colsample_bytree=0.8,  # Fraction of features to use for each tree\n",
    "    eval_metric='rmse',  # Evaluation metric\n",
    "    tree_method='hist',  # Use GPU for training\n",
    "    device=device.type,  # Use the same device as the model\n",
    ")\n",
    "\n",
    "# model_xgb.fit(X_train.numpy(), y_train.numpy(), eval_set=[(X_val.numpy(), y_val.numpy())])\n",
    "\n",
    "model_xgb.fit(\n",
    "    X_train.numpy(), \n",
    "    y_train.numpy(), \n",
    "    eval_set=[(X_train.numpy(), y_train.numpy()), (X_val.numpy(), y_val.numpy())], \n",
    "    verbose=False\n",
    ")\n",
    "\n",
    "results = model_xgb.evals_result()\n",
    "\n",
    "# plot loss curves\n",
    "plt.figure(figsize=(8,5))\n",
    "plt.plot(results['validation_0']['rmse'], label='Training RMSE')\n",
    "plt.plot(results['validation_1']['rmse'], label='Validation RMSE')\n",
    "plt.xlabel('Iteration')\n",
    "plt.ylabel('RMSE')\n",
    "plt.title('XGBoost Training & Validation Loss')\n",
    "plt.legend()\n",
    "plt.grid(True)\n",
    "plt.tight_layout()\n",
    "plt.show()\n",
    "\n",
    "# evaluate predictions\n",
    "preds_xgb = model_xgb.predict(X_test.numpy())\n",
    "test_loss_xgb = np.mean((preds_xgb - y_test.numpy()) **2)\n",
    "print(f\"Test RMSE for XGBoost: {test_loss_xgb:.4f}\")\n",
    "\n",
    "# save model\n",
    "torch.save(model_xgb, \"model/xgb_model.pt\")"
   ]
  },
  {
   "cell_type": "markdown",
   "id": "982066cb",
   "metadata": {},
   "source": [
    "# Evaluation"
   ]
  },
  {
   "cell_type": "markdown",
   "id": "cdd156fb",
   "metadata": {},
   "source": [
    "**Mean squared error, mean absolute error & r2-score:**"
   ]
  },
  {
   "cell_type": "code",
   "execution_count": null,
   "id": "c2ec01d8",
   "metadata": {},
   "outputs": [],
   "source": [
    "def eval_metrics(targets, predictions):\n",
    "    mse = torchmetrics.functional.mean_squared_error(torch.tensor(predictions), torch.tensor(targets))\n",
    "    mae = torchmetrics.functional.mean_absolute_error(torch.tensor(predictions), torch.tensor(targets))\n",
    "    r2 = torchmetrics.functional.r2_score(torch.tensor(predictions), torch.tensor(targets))\n",
    "    return mse.item(), mae.item(), r2.item()"
   ]
  },
  {
   "cell_type": "markdown",
   "id": "917e31c6",
   "metadata": {},
   "source": [
    "**Concordance index:**"
   ]
  },
  {
   "cell_type": "code",
   "execution_count": null,
   "id": "c5ef0968",
   "metadata": {},
   "outputs": [],
   "source": [
    "def concordance_idx(y_true, y_pred):\n",
    "    # 1. Convert inputs to NumPy arrays\n",
    "    y_true = np.asarray(y_true)\n",
    "    y_pred = np.asarray(y_pred)\n",
    "\n",
    "    # 2. Sort by predicted values\n",
    "    order = np.argsort(y_pred)\n",
    "    y_true = y_true[order]\n",
    "\n",
    "    # 3. Find unique labels and group sizes\n",
    "    unique_labels, inverse = np.unique(y_true, return_inverse=True)\n",
    "    counts = np.bincount(inverse)  # number of samples per unique label\n",
    "\n",
    "    print(f\"Found {len(unique_labels)} unique labels\")\n",
    "\n",
    "    # 4. Compute cumulative counts\n",
    "    cum_counts = np.cumsum(counts)  # prefix sum for fast pair counting\n",
    "\n",
    "    concordant = 0\n",
    "    total_pairs = 0\n",
    "\n",
    "    # 5. Iterate over label groups\n",
    "    for i, count_i in enumerate(tqdm(counts, desc=\"Processing label groups\")):\n",
    "        # Total pairs with higher labels (since sorted by prediction, no pair expansion)\n",
    "        higher = cum_counts[-1] - cum_counts[i]\n",
    "        total_pairs += count_i * higher\n",
    "\n",
    "        # Since it is sorted by prediction, all these pairs are concordant\n",
    "        concordant += count_i * higher\n",
    "\n",
    "    c_index = concordant / total_pairs if total_pairs > 0 else np.nan\n",
    "\n",
    "    return c_index\n"
   ]
  },
  {
   "cell_type": "code",
   "execution_count": null,
   "id": "abdc9e22",
   "metadata": {},
   "outputs": [],
   "source": [
    "# MLP predictions\n",
    "mse_mlp, mae_mlp, r2_mlp = eval_metrics(y_test.cpu().numpy(), preds_mlp)\n",
    "c_idx_mlp = concordance_idx(y_test.cpu().numpy(), preds_mlp)\n",
    "print(f\"MLP -> MSE: {mse_mlp:.4f}, MAE: {mae_mlp:.4f}, R2: {r2_mlp:.4f}, Concordance Index: {c_idx_mlp:.4f}\")\n",
    "\n",
    "# XGBoost predictions\n",
    "mse_xgb, mae_xgb, r2_xgb = eval_metrics(y_test.cpu().numpy(), preds_xgb)\n",
    "c_idx_xgb = concordance_idx(y_test.cpu().numpy(), preds_xgb)\n",
    "print(f\"XGBoost -> MSE: {mse_xgb:.4f}, MAE: {mae_xgb:.4f}, R2: {r2_xgb:.4f}, Concordance Index: {c_idx_xgb:.4f}\")\n",
    "\n",
    "# LightGBM predictions\n",
    "mse_lgb, mae_lgb, r2_lgb = eval_metrics(y_test.cpu().numpy(), preds_lgb)\n",
    "c_idx_lgb = concordance_idx(y_test.cpu().numpy(), preds_lgb)\n",
    "print(f\"LightGBM -> MSE: {mse_lgb:.4f}, MAE: {mae_lgb:.4f}, R2: {r2_lgb:.4f}, Concordance Index: {c_idx_lgb:.4f}\")"
   ]
  },
  {
   "cell_type": "markdown",
   "id": "c2518e5d",
   "metadata": {},
   "source": [
    "### Prediction stacking"
   ]
  },
  {
   "cell_type": "code",
   "execution_count": null,
   "id": "3bf58dc0",
   "metadata": {},
   "outputs": [
    {
     "name": "stdout",
     "output_type": "stream",
     "text": [
      "Test MSE: 0.4257, MAE: 0.4343, R2: 0.3999\n",
      "[Step 1] Converting inputs to NumPy arrays...\n",
      "[Step 2] Sorting by predicted values...\n",
      "[Step 3] Finding unique labels and group sizes...\n",
      "    Found 996 unique labels\n",
      "[Step 4] Computing cumulative counts...\n",
      "[Step 5] Iterating over label groups...\n"
     ]
    },
    {
     "data": {
      "application/vnd.jupyter.widget-view+json": {
       "model_id": "3b715bc9ba14491faab0a181aad6f190",
       "version_major": 2,
       "version_minor": 0
      },
      "text/plain": [
       "Processing label groups:   0%|          | 0/996 [00:00<?, ?it/s]"
      ]
     },
     "metadata": {},
     "output_type": "display_data"
    },
    {
     "name": "stdout",
     "output_type": "stream",
     "text": [
      "[Step 6] Finalizing concordance index...\n",
      "[Done] Concordance Index: 1.0000\n",
      "Concordance Index (Average): 1.0000\n"
     ]
    }
   ],
   "source": [
    "preds_avg = (preds_mlp + preds_lgb + preds_xgb) / 3\n",
    "\n",
    "mse_avg, mae_avg, r2_avg = eval_metrics(y_test.cpu().numpy(), preds_avg)\n",
    "c_idx_avg = concordance_idx(y_test.cpu().numpy(), preds_avg)\n",
    "\n",
    "print(f\"Average -> MSE: {mse_avg:.4f}, MAE: {mae_avg:.4f}, R2: {r2_avg:.4f}, Concordance Index: {c_idx_avg:.4f}\")"
   ]
  }
 ],
 "metadata": {
  "kernelspec": {
   "display_name": "rdkit-env",
   "language": "python",
   "name": "python3"
  },
  "language_info": {
   "codemirror_mode": {
    "name": "ipython",
    "version": 3
   },
   "file_extension": ".py",
   "mimetype": "text/x-python",
   "name": "python",
   "nbconvert_exporter": "python",
   "pygments_lexer": "ipython3",
   "version": "3.8.19"
  }
 },
 "nbformat": 4,
 "nbformat_minor": 5
}
